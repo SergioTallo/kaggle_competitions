{
 "cells": [
  {
   "cell_type": "code",
   "execution_count": 136,
   "outputs": [],
   "source": [
    "import numpy as np"
   ],
   "metadata": {
    "collapsed": false,
    "pycharm": {
     "name": "#%%\n"
    }
   }
  },
  {
   "cell_type": "code",
   "execution_count": 34,
   "outputs": [],
   "source": [
    "from meteostat import Stations, Daily"
   ],
   "metadata": {
    "collapsed": false,
    "pycharm": {
     "name": "#%%\n"
    }
   }
  },
  {
   "cell_type": "code",
   "execution_count": 168,
   "outputs": [],
   "source": [
    "stations = Stations()\n",
    "stations = stations.nearby(40.4168, -3.7038)\n",
    "station = stations.fetch(10)"
   ],
   "metadata": {
    "collapsed": false,
    "pycharm": {
     "name": "#%%\n"
    }
   }
  },
  {
   "cell_type": "code",
   "execution_count": 169,
   "outputs": [
    {
     "name": "stdout",
     "output_type": "stream",
     "text": [
      "                             name country region    wmo  icao  latitude  \\\n",
      "id                                                                        \n",
      "08222                      Madrid      ES      M  08222  <NA>   40.4167   \n",
      "08223     Madrid / Cuatro Vientos      ES      M  08223  LEVS   40.3833   \n",
      "08224             Madrid / Getafe      ES      M  08224  LEGT   40.3000   \n",
      "08221            Madrid / Barajas      ES      M  08221  LEMD   40.4500   \n",
      "LEMM0  Madrid / Barajas de Madrid      ES      M   <NA>  LEMM   40.5000   \n",
      "08227           Madrid / Torrejon      ES      M  08227  LETO   40.4833   \n",
      "08219              Madri-Colmenar      ES      M  08219  LECV   40.6500   \n",
      "08215                 Navacerrada      ES     CL  08215  <NA>   40.7833   \n",
      "08226                 Guadalajara      ES     CM  08226  <NA>   40.6667   \n",
      "08272                      Toledo      ES     CM  08272  <NA>   39.8833   \n",
      "\n",
      "       longitude  elevation       timezone hourly_start hourly_end  \\\n",
      "id                                                                   \n",
      "08222    -3.6833      655.0  Europe/Madrid          NaT        NaT   \n",
      "08223    -3.7833      690.0  Europe/Madrid   1973-07-19 2022-07-18   \n",
      "08224    -3.7167      620.0  Europe/Madrid   1973-01-01 2022-07-17   \n",
      "08221    -3.5500      609.0  Europe/Madrid   1931-01-02 2022-07-18   \n",
      "LEMM0    -3.5833      633.0  Europe/Madrid   2012-07-24 2022-03-16   \n",
      "08227    -3.4500      607.0  Europe/Madrid   1957-10-01 2022-07-18   \n",
      "08219    -3.7333        0.0  Europe/Madrid   1997-05-06 2022-07-17   \n",
      "08215    -4.0167     1894.0  Europe/Madrid          NaT        NaT   \n",
      "08226    -3.1667      639.0  Europe/Madrid          NaT        NaT   \n",
      "08272    -4.0500      515.0  Europe/Madrid   2018-01-27 2022-07-17   \n",
      "\n",
      "      daily_start  daily_end monthly_start monthly_end      distance  \n",
      "id                                                                    \n",
      "08222  1920-01-01 2022-04-01    1920-01-01  2022-01-01   1735.527163  \n",
      "08223  1945-05-01 2022-07-12    1945-01-01  2022-01-01   7693.864169  \n",
      "08224  1951-01-01 2022-07-12    1951-01-01  2022-01-01  13033.481305  \n",
      "08221  1945-01-01 2022-07-10    1945-01-01  2022-01-01  13530.550439  \n",
      "LEMM0         NaT        NaT           NaT         NaT  13766.858945  \n",
      "08227  1957-10-01 2022-04-25    1957-01-01  2022-01-01  22712.964119  \n",
      "08219  1978-01-01 2022-04-22    1978-01-01  2022-01-01  26050.228128  \n",
      "08215  1946-01-01 2022-07-12    1946-01-01  2022-01-01  48566.074583  \n",
      "08226  1975-02-28 2022-07-12    1982-01-01  2021-01-01  53216.158748  \n",
      "08272  1973-01-01 2022-07-12    1978-01-01  2022-01-01  66218.870123  \n"
     ]
    }
   ],
   "source": [
    "print(station)"
   ],
   "metadata": {
    "collapsed": false,
    "pycharm": {
     "name": "#%%\n"
    }
   }
  },
  {
   "cell_type": "code",
   "execution_count": 79,
   "outputs": [],
   "source": [
    "from datetime import datetime\n",
    "import matplotlib.pyplot as plt"
   ],
   "metadata": {
    "collapsed": false,
    "pycharm": {
     "name": "#%%\n"
    }
   }
  },
  {
   "cell_type": "code",
   "execution_count": 180,
   "outputs": [
    {
     "name": "stdout",
     "output_type": "stream",
     "text": [
      "Empty DataFrame\n",
      "Columns: [tavg, tmin, tmax, prcp, snow, wdir, wspd, wpgt, pres, tsun]\n",
      "Index: []\n"
     ]
    }
   ],
   "source": [
    "start = datetime(1931, 5, 1)\n",
    "end = datetime(1931, 10, 1)\n",
    "data = Daily('08221', start, end)\n",
    "data = data.fetch()\n",
    "print(data)"
   ],
   "metadata": {
    "collapsed": false,
    "pycharm": {
     "name": "#%%\n"
    }
   }
  },
  {
   "cell_type": "code",
   "execution_count": 171,
   "outputs": [],
   "source": [
    "def counting (data):\n",
    "    count = 0\n",
    "    for i in range(data.shape[0]):\n",
    "        if data.iloc[i]['tmax'] >= 35:\n",
    "            count += 1\n",
    "    return count\n",
    "\n",
    "def mean(data):\n",
    "    mean_max = 0\n",
    "    mean_min = 0\n",
    "    for i in range(data.shape[0]):\n",
    "        mean_max += data.iloc[i]['tmax']\n",
    "        mean_min += data.iloc[i]['tmin']\n",
    "\n",
    "    return mean_max/data.shape[0], mean_min/data.shape[0]\n",
    "\n",
    "def max_tem(data):\n",
    "    temp = []\n",
    "    for i in range(data.shape[0]):\n",
    "        temp.append(data.iloc[i]['tmax'])\n",
    "\n",
    "    return temp"
   ],
   "metadata": {
    "collapsed": false,
    "pycharm": {
     "name": "#%%\n"
    }
   }
  },
  {
   "cell_type": "code",
   "execution_count": 179,
   "outputs": [
    {
     "name": "stdout",
     "output_type": "stream",
     "text": [
      "1951 number of days over 30: 0\n",
      "1951 Mean Temperature: nan\n",
      "1952 number of days over 30: 0\n",
      "1952 Mean Temperature: nan\n",
      "1953 number of days over 30: 0\n",
      "1953 Mean Temperature: nan\n",
      "1954 number of days over 30: 0\n",
      "1954 Mean Temperature: nan\n",
      "1955 number of days over 30: 0\n",
      "1955 Mean Temperature: nan\n",
      "1956 number of days over 30: 0\n",
      "1956 Mean Temperature: nan\n",
      "1957 number of days over 30: 0\n",
      "1957 Mean Temperature: nan\n",
      "1958 number of days over 30: 0\n",
      "1958 Mean Temperature: nan\n",
      "1959 number of days over 30: 0\n",
      "1959 Mean Temperature: nan\n",
      "1960 number of days over 30: 0\n",
      "1960 Mean Temperature: nan\n",
      "1961 number of days over 30: 14\n",
      "1961 Mean Temperature: 21.47041095890411\n",
      "1962 number of days over 30: 29\n",
      "1962 Mean Temperature: 20.68602739726027\n",
      "1963 number of days over 30: 8\n",
      "1963 Mean Temperature: 19.364657534246568\n",
      "1964 number of days over 30: 16\n",
      "1964 Mean Temperature: 20.77377049180327\n",
      "1965 number of days over 30: 18\n",
      "1965 Mean Temperature: 19.889560439560444\n",
      "1966 number of days over 30: 19\n",
      "1966 Mean Temperature: 20.218356164383565\n",
      "1967 number of days over 30: 23\n",
      "1967 Mean Temperature: 20.342739726027414\n",
      "1968 number of days over 30: 19\n",
      "1968 Mean Temperature: 20.42131147540982\n",
      "1969 number of days over 30: 27\n",
      "1969 Mean Temperature: 19.229041095890416\n",
      "1970 number of days over 30: 15\n",
      "1970 Mean Temperature: 20.534794520547948\n",
      "1971 number of days over 30: 9\n",
      "1971 Mean Temperature: 19.391232876712323\n",
      "1972 number of days over 30: 3\n",
      "1972 Mean Temperature: 18.866666666666685\n",
      "1973 number of days over 30: 17\n",
      "1973 Mean Temperature: 20.360273972602727\n",
      "1974 number of days over 30: 22\n",
      "1974 Mean Temperature: 20.18986301369862\n",
      "1975 number of days over 30: 23\n",
      "1975 Mean Temperature: 19.98849315068492\n",
      "1976 number of days over 30: 14\n",
      "1976 Mean Temperature: 20.08606557377049\n",
      "1977 number of days over 30: 4\n",
      "1977 Mean Temperature: 19.641095890410963\n",
      "1978 number of days over 30: 21\n",
      "1978 Mean Temperature: 20.209863013698637\n",
      "1979 number of days over 30: 16\n",
      "1979 Mean Temperature: 20.31452054794521\n",
      "1980 number of days over 30: 21\n",
      "1980 Mean Temperature: 20.43224043715849\n",
      "1981 number of days over 30: 14\n",
      "1981 Mean Temperature: 21.316712328767153\n",
      "1982 number of days over 30: 14\n",
      "1982 Mean Temperature: 20.658630136986304\n",
      "1983 number of days over 30: 13\n",
      "1983 Mean Temperature: 21.262739726027423\n",
      "1984 number of days over 30: 17\n",
      "1984 Mean Temperature: 19.44918032786884\n",
      "1985 number of days over 30: 33\n",
      "1985 Mean Temperature: 21.02191780821918\n",
      "1986 number of days over 30: 21\n",
      "1986 Mean Temperature: 20.415342465753405\n",
      "1987 number of days over 30: 25\n",
      "1987 Mean Temperature: 21.173150684931503\n",
      "1988 number of days over 30: 32\n",
      "1988 Mean Temperature: 20.840163934426222\n",
      "1989 number of days over 30: 39\n",
      "1989 Mean Temperature: 22.043561643835606\n",
      "1990 number of days over 30: 28\n",
      "1990 Mean Temperature: 21.497808219178076\n",
      "1991 number of days over 30: 47\n",
      "1991 Mean Temperature: 20.65753424657532\n",
      "1992 number of days over 30: 29\n",
      "1992 Mean Temperature: 20.983606557377048\n",
      "1993 number of days over 30: 26\n",
      "1993 Mean Temperature: 19.880821917808223\n",
      "1994 number of days over 30: 45\n",
      "1994 Mean Temperature: 21.831780821917803\n",
      "1995 number of days over 30: 21\n",
      "1995 Mean Temperature: 22.10273972602739\n",
      "1996 number of days over 30: 19\n",
      "1996 Mean Temperature: 20.783606557377063\n",
      "1997 number of days over 30: 20\n",
      "1997 Mean Temperature: 21.7904109589041\n",
      "1998 number of days over 30: 39\n",
      "1998 Mean Temperature: 21.514794520547955\n",
      "1999 number of days over 30: 19\n",
      "1999 Mean Temperature: 20.924109589041088\n",
      "2000 number of days over 30: 17\n",
      "2000 Mean Temperature: 20.83797814207651\n",
      "2001 number of days over 30: 14\n",
      "2001 Mean Temperature: 20.29890410958904\n",
      "2002 number of days over 30: 14\n",
      "2002 Mean Temperature: 20.444657534246574\n",
      "2003 number of days over 30: 31\n",
      "2003 Mean Temperature: 20.958082191780818\n",
      "2004 number of days over 30: 21\n",
      "2004 Mean Temperature: 20.609562841530042\n",
      "2005 number of days over 30: 42\n",
      "2005 Mean Temperature: 21.97205479452054\n",
      "2006 number of days over 30: 51\n",
      "2006 Mean Temperature: 22.592602739726036\n",
      "2007 number of days over 30: 18\n",
      "2007 Mean Temperature: 21.23534246575343\n",
      "2008 number of days over 30: 26\n",
      "2008 Mean Temperature: 21.35355191256831\n",
      "2009 number of days over 30: 46\n",
      "2009 Mean Temperature: 22.546849315068474\n",
      "2010 number of days over 30: 22\n",
      "2010 Mean Temperature: 20.422191780821905\n",
      "2011 number of days over 30: 20\n",
      "2011 Mean Temperature: 22.07643835616439\n",
      "2012 number of days over 30: 29\n",
      "2012 Mean Temperature: 21.44398907103826\n",
      "2013 number of days over 30: 41\n",
      "2013 Mean Temperature: 21.18383561643836\n",
      "2014 number of days over 30: 25\n",
      "2014 Mean Temperature: 22.363835616438354\n",
      "2015 number of days over 30: 42\n",
      "2015 Mean Temperature: 22.88739726027398\n",
      "2016 number of days over 30: 41\n",
      "2016 Mean Temperature: 21.704644808743165\n",
      "2017 number of days over 30: 44\n",
      "2017 Mean Temperature: 22.960821917808246\n",
      "2018 number of days over 30: 19\n",
      "2018 Mean Temperature: 21.123013698630132\n",
      "2019 number of days over 30: 36\n",
      "2019 Mean Temperature: 22.615068493150694\n",
      "2020 number of days over 30: 40\n",
      "2020 Mean Temperature: 22.129508196721314\n",
      "2021 number of days over 30: 26\n",
      "2021 Mean Temperature: 21.578356164383568\n",
      "2022 number of days over 30: 35\n",
      "2022 Mean Temperature: 22.537198067632836\n"
     ]
    }
   ],
   "source": [
    "number_of_days = []\n",
    "years = []\n",
    "mean_max = []\n",
    "mean_min = []\n",
    "max_temp = []\n",
    "\n",
    "for i in range(1951, 2023):\n",
    "    start = datetime(i, 1, 1)\n",
    "    end = datetime(i, 12, 31)\n",
    "    data = Daily('08221', start, end)\n",
    "    data = data.fetch()\n",
    "    print(f'{i} number of days over 30: {counting(data)}')\n",
    "    print(f'{i} Mean Temperature: {mean(data)[0]}')\n",
    "    number_of_days.append(counting(data))\n",
    "    years.append(i)\n",
    "    mean_max.append(mean(data)[0])\n",
    "    mean_min.append(mean(data)[1])\n",
    "    max_temp.append(max_tem(data))"
   ],
   "metadata": {
    "collapsed": false,
    "pycharm": {
     "name": "#%%\n"
    }
   }
  },
  {
   "cell_type": "code",
   "execution_count": 181,
   "outputs": [
    {
     "name": "stdout",
     "output_type": "stream",
     "text": [
      "72\n"
     ]
    }
   ],
   "source": [
    "print(len(max_temp))"
   ],
   "metadata": {
    "collapsed": false,
    "pycharm": {
     "name": "#%%\n"
    }
   }
  },
  {
   "cell_type": "code",
   "execution_count": 182,
   "outputs": [],
   "source": [
    "probs = []\n",
    "for i in max_temp:\n",
    "    count = 0\n",
    "    p = 0\n",
    "    for j in i:\n",
    "        if j >= 30.0:\n",
    "            count += 1\n",
    "\n",
    "        p = count/ len(i) * 100\n",
    "    probs.append(p)"
   ],
   "metadata": {
    "collapsed": false,
    "pycharm": {
     "name": "#%%\n"
    }
   }
  },
  {
   "cell_type": "code",
   "execution_count": 183,
   "outputs": [
    {
     "name": "stdout",
     "output_type": "stream",
     "text": [
      "[5.752212389380531, 0.0, 0.0, 0.0, 0.0, 0.0, 0.0, 0.0, 0.0, 0.0, 24.65753424657534, 25.753424657534246, 13.698630136986301, 23.497267759562842, 20.87912087912088, 19.45205479452055, 17.80821917808219, 17.48633879781421, 16.164383561643834, 23.28767123287671, 15.616438356164384, 16.120218579234972, 17.80821917808219, 19.17808219178082, 17.26027397260274, 16.666666666666664, 14.246575342465754, 18.904109589041095, 19.45205479452055, 22.131147540983605, 21.095890410958905, 18.904109589041095, 22.19178082191781, 17.48633879781421, 23.28767123287671, 21.643835616438356, 23.013698630136986, 18.852459016393443, 22.465753424657535, 26.027397260273972, 24.93150684931507, 20.76502732240437, 16.71232876712329, 24.65753424657534, 20.273972602739725, 21.03825136612022, 17.80821917808219, 22.19178082191781, 20.54794520547945, 21.85792349726776, 20.273972602739725, 19.17808219178082, 23.28767123287671, 24.043715846994534, 28.493150684931507, 28.767123287671232, 19.45205479452055, 21.584699453551913, 28.21917808219178, 22.73972602739726, 26.027397260273972, 27.595628415300546, 26.027397260273972, 23.28767123287671, 25.47945205479452, 24.59016393442623, 25.47945205479452, 24.93150684931507, 24.65753424657534, 25.136612021857925, 21.91780821917808, 26.570048309178745]\n"
     ]
    }
   ],
   "source": [
    "print(probs)"
   ],
   "metadata": {
    "collapsed": false,
    "pycharm": {
     "name": "#%%\n"
    }
   }
  },
  {
   "cell_type": "code",
   "execution_count": 184,
   "outputs": [
    {
     "data": {
      "text/plain": "<Figure size 720x360 with 1 Axes>",
      "image/png": "[encoded data removed]"
     },
     "metadata": {
      "needs_background": "light"
     },
     "output_type": "display_data"
    }
   ],
   "source": [
    "plt.figure(figsize=(10, 5))\n",
    "plt.plot(years, probs)\n",
    "\n",
    "plt.title(f'Probability to have a day over 30°')\n",
    "plt.xlabel('years')\n",
    "plt.ylabel('probability in %')\n",
    "plt.show()"
   ],
   "metadata": {
    "collapsed": false,
    "pycharm": {
     "name": "#%%\n"
    }
   }
  },
  {
   "cell_type": "code",
   "execution_count": 185,
   "outputs": [
    {
     "data": {
      "text/plain": "<Figure size 1080x1080 with 1 Axes>",
      "image/png": "[encoded data removed]"
     },
     "metadata": {
      "needs_background": "light"
     },
     "output_type": "display_data"
    }
   ],
   "source": [
    "plt.figure(figsize=(15, 15))\n",
    "plt.bar(years, number_of_days)\n",
    "plt.plot(years, mean_max)\n",
    "plt.plot(years, mean_min)\n",
    "\n",
    "plt.title(f'Number of days over 30° in Vienna')\n",
    "plt.xlabel('years')\n",
    "plt.ylabel('number of days over 30°')\n",
    "plt.show()"
   ],
   "metadata": {
    "collapsed": false,
    "pycharm": {
     "name": "#%%\n"
    }
   }
  },
  {
   "cell_type": "code",
   "execution_count": null,
   "outputs": [],
   "source": [],
   "metadata": {
    "collapsed": false,
    "pycharm": {
     "name": "#%%\n"
    }
   }
  },
  {
   "cell_type": "code",
   "execution_count": null,
   "outputs": [],
   "source": [],
   "metadata": {
    "collapsed": false,
    "pycharm": {
     "name": "#%%\n"
    }
   }
  }
 ],
 "metadata": {
  "kernelspec": {
   "display_name": "Python 3",
   "language": "python",
   "name": "python3"
  },
  "language_info": {
   "codemirror_mode": {
    "name": "ipython",
    "version": 2
   },
   "file_extension": ".py",
   "mimetype": "text/x-python",
   "name": "python",
   "nbconvert_exporter": "python",
   "pygments_lexer": "ipython2",
   "version": "2.7.6"
  }
 },
 "nbformat": 4,
 "nbformat_minor": 0
}